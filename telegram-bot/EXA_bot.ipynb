{
 "cells": [
  {
   "cell_type": "code",
   "execution_count": 3,
   "id": "9838a118",
   "metadata": {},
   "outputs": [
    {
     "name": "stdout",
     "output_type": "stream",
     "text": [
      "{\"ok\":true,\"result\":{\"message_id\":5,\"from\":{\"id\":5848672878,\"is_bot\":true,\"first_name\":\"EXA\",\"username\":\"MakeMeRichEXA_bot\"},\"chat\":{\"id\":5725627235,\"first_name\":\"Jin\",\"last_name\":\"Suha\",\"username\":\"beaker27\",\"type\":\"private\"},\"date\":1675080558,\"text\":\"Hi\"}}\n"
     ]
    }
   ],
   "source": [
    "import requests\n",
    "from telegram.ext import Updater\n",
    "from telegram.ext import CommandHandler\n",
    "import json"
   ]
  },
  {
   "cell_type": "code",
   "execution_count": null,
   "id": "3400c251",
   "metadata": {},
   "outputs": [],
   "source": [
    "# message to telegram\n",
    "def send_to_telegram(message):\n",
    "\n",
    "    apiToken = '5848672878:AAFwlb8YWP6koPDcqFh7NLwK9Hg0_e1oH9o'\n",
    "    chatID = '5725627235'\n",
    "    apiURL = f'https://api.telegram.org/bot{apiToken}/sendMessage'\n",
    "\n",
    "    try:\n",
    "        response = requests.post(apiURL, json={'chat_id': chatID, 'text': message})\n",
    "        print(response.text)\n",
    "    except Exception as e:\n",
    "        print(e)\n"
   ]
  },
  {
   "cell_type": "code",
   "execution_count": null,
   "id": "1b5971cb",
   "metadata": {},
   "outputs": [],
   "source": [
    "# 데이터 필터\n",
    "def filter():\n",
    "    "
   ]
  },
  {
   "cell_type": "code",
   "execution_count": null,
   "id": "52cbc4bb",
   "metadata": {},
   "outputs": [],
   "source": [
    "# 사용자 설정\n",
    "def settting(update,context):\n",
    "    user_input = update.message.text\n",
    "    #input 받기\n"
   ]
  },
  {
   "cell_type": "code",
   "execution_count": null,
   "id": "14486c55",
   "metadata": {},
   "outputs": [],
   "source": [
    "def start():\n",
    "    with open('./data.json', 'r') as f:\n",
    "    json_data = json.load(f)\n",
    "    "
   ]
  },
  {
   "cell_type": "code",
   "execution_count": null,
   "id": "8ef356b3",
   "metadata": {},
   "outputs": [],
   "source": [
    "\n",
    "\n",
    "updater = Updater(token='5848672878:AAFwlb8YWP6koPDcqFh7NLwK9Hg0_e1oH9o')\n",
    "dispatcher = updater.dispatcher\n",
    "set_handler = CommandHandler('setting',setting)\n",
    "dispatcher.add_handler(set_handler)\n",
    "schedule.every(1).minutes.do(start)"
   ]
  }
 ],
 "metadata": {
  "kernelspec": {
   "display_name": "Python 3 (ipykernel)",
   "language": "python",
   "name": "python3"
  },
  "language_info": {
   "codemirror_mode": {
    "name": "ipython",
    "version": 3
   },
   "file_extension": ".py",
   "mimetype": "text/x-python",
   "name": "python",
   "nbconvert_exporter": "python",
   "pygments_lexer": "ipython3",
   "version": "3.9.13"
  }
 },
 "nbformat": 4,
 "nbformat_minor": 5
}
